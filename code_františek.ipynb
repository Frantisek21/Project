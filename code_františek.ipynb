{
 "cells": [
  {
   "cell_type": "code",
   "execution_count": 1,
   "metadata": {},
   "outputs": [],
   "source": [
    "import requests\n",
    "import json\n",
    "from datetime import datetime\n",
    "import pandas as pd"
   ]
  },
  {
   "cell_type": "code",
   "execution_count": 2,
   "metadata": {},
   "outputs": [
    {
     "name": "stdout",
     "output_type": "stream",
     "text": [
      "Weather data for New York saved to New York_weather_data.json\n"
     ]
    }
   ],
   "source": [
    "# api\n",
    "api_key = \"de0405115c002166202a8445e6fb9864\"\n",
    "city = \"New York\"\n",
    "url = f\"http://api.openweathermap.org/data/2.5/weather?q={city}&appid={api_key}&units=metric\"\n",
    "\n",
    "response = requests.get(url)\n",
    "data = response.json()\n",
    "\n",
    "# Save the data to a local file\n",
    "with open(f\"{city}_weather_data.json\", \"w\") as file:\n",
    "    json.dump(data, file)\n",
    "\n",
    "print(f\"Weather data for {city} saved to {city}_weather_data.json\")"
   ]
  },
  {
   "cell_type": "code",
   "execution_count": 3,
   "metadata": {},
   "outputs": [
    {
     "name": "stdout",
     "output_type": "stream",
     "text": [
      "Temperature: 10.62°C\n",
      "Humidity: 43%\n",
      "Wind Speed: 4.12 m/s\n"
     ]
    }
   ],
   "source": [
    "# Load the data from the local file\n",
    "with open(f\"{city}_weather_data.json\", \"r\") as file:\n",
    "    saved_data = json.load(file)\n",
    "\n",
    "temperature = saved_data[\"main\"][\"temp\"]\n",
    "humidity = saved_data[\"main\"][\"humidity\"]\n",
    "wind_speed = saved_data[\"wind\"][\"speed\"]\n",
    "\n",
    "print(f\"Temperature: {temperature}°C\")\n",
    "print(f\"Humidity: {humidity}%\")\n",
    "print(f\"Wind Speed: {wind_speed} m/s\")"
   ]
  },
  {
   "cell_type": "code",
   "execution_count": 4,
   "metadata": {},
   "outputs": [
    {
     "name": "stdout",
     "output_type": "stream",
     "text": [
      "Weather data for New York saved to New_York_weather_data.json\n",
      "Weather data for Říčany saved to Říčany_weather_data.json\n",
      "Weather data for Brno saved to Brno_weather_data.json\n",
      "Weather data for Praha saved to Praha_weather_data.json\n",
      "Weather data for Pyšely saved to Pyšely_weather_data.json\n"
     ]
    }
   ],
   "source": [
    "#same for my cities\n",
    "api_key = \"de0405115c002166202a8445e6fb9864\"\n",
    "cities = [\"New York\", \"Říčany\", \"Brno\", \"Praha\", \"Pyšely\"]\n",
    "\n",
    "for city in cities:\n",
    "    url = f\"http://api.openweathermap.org/data/2.5/weather?q={city}&appid={api_key}&units=metric\"\n",
    "    response = requests.get(url)\n",
    "    data = response.json()\n",
    "\n",
    "    # Saving the data to a local file\n",
    "    with open(f\"{city.replace(' ', '_')}_weather_data.json\", \"w\") as file:\n",
    "        json.dump(data, file)\n",
    "\n",
    "    print(f\"Weather data for {city} saved to {city.replace(' ', '_')}_weather_data.json\")\n"
   ]
  },
  {
   "cell_type": "code",
   "execution_count": 5,
   "metadata": {},
   "outputs": [
    {
     "name": "stdout",
     "output_type": "stream",
     "text": [
      "Weather data for all cities saved to all_cities_weather_data.json\n"
     ]
    }
   ],
   "source": [
    "#api\n",
    "api_key = \"de0405115c002166202a8445e6fb9864\"\n",
    "cities = [\"New York\", \"Praha\", \"Brno\", \"Ostrava\", \"Paris\"]\n",
    "\n",
    "# Create an empty dictionary\n",
    "all_weather_data = {}\n",
    "\n",
    "for city in cities:\n",
    "    url = f\"http://api.openweathermap.org/data/2.5/weather?q={city}&appid={api_key}&units=metric\"\n",
    "    response = requests.get(url)\n",
    "    data = response.json()\n",
    "\n",
    "    # Add the weather data for the city to the dictionary\n",
    "    all_weather_data[city] = data\n",
    "\n",
    "# Saving the data for all cities to a single JSON file\n",
    "with open(\"all_cities_weather_data.json\", \"w\") as file:\n",
    "    json.dump(all_weather_data, file)\n",
    "\n",
    "print(\"Weather data for all cities saved to all_cities_weather_data.json\")"
   ]
  },
  {
   "cell_type": "code",
   "execution_count": 6,
   "metadata": {},
   "outputs": [
    {
     "name": "stdout",
     "output_type": "stream",
     "text": [
      "Temperature: 10.62°C\n",
      "Humidity: 43%\n",
      "Wind Speed: 4.12 m/s\n"
     ]
    }
   ],
   "source": [
    "#saving\n",
    "with open(\"all_cities_weather_data.json\", \"r\") as file:\n",
    "    saved_data = json.load(file)\n",
    "\n",
    "# Access for specific city\n",
    "city = \"New York\"\n",
    "city_weather_data = saved_data[city]\n",
    "\n",
    "temperature = city_weather_data[\"main\"][\"temp\"]\n",
    "humidity = city_weather_data[\"main\"][\"humidity\"]\n",
    "wind_speed = city_weather_data[\"wind\"][\"speed\"]\n",
    "\n",
    "print(f\"Temperature: {temperature}°C\")\n",
    "print(f\"Humidity: {humidity}%\")\n",
    "print(f\"Wind Speed: {wind_speed} m/s\")\n"
   ]
  },
  {
   "cell_type": "code",
   "execution_count": 7,
   "metadata": {},
   "outputs": [
    {
     "name": "stdout",
     "output_type": "stream",
     "text": [
      "Weather data for New York:\n",
      "  Temperature: 10.62°C\n",
      "  Humidity: 43%\n",
      "  Wind Speed: 4.12 m/s\n",
      "\n",
      "Weather data for Praha:\n",
      "  Temperature: 9.75°C\n",
      "  Humidity: 74%\n",
      "  Wind Speed: 1.03 m/s\n",
      "\n",
      "Weather data for Ostrava:\n",
      "  Temperature: 9.29°C\n",
      "  Humidity: 76%\n",
      "  Wind Speed: 4.63 m/s\n",
      "\n",
      "Weather data for Brno:\n",
      "  Temperature: 8.9°C\n",
      "  Humidity: 77%\n",
      "  Wind Speed: 3.13 m/s\n",
      "\n",
      "Weather data for Kolovraty:\n",
      "  Temperature: 9.05°C\n",
      "  Humidity: 70%\n",
      "  Wind Speed: 1.03 m/s\n",
      "\n",
      "Weather data for all cities saved to all_cities_weather_data.json\n"
     ]
    }
   ],
   "source": [
    "#api\n",
    "api_key = \"de0405115c002166202a8445e6fb9864\"\n",
    "cities = [\"New York\", \"Praha\", \"Ostrava\", \"Brno\", \"Kolovraty\"]\n",
    "\n",
    "# Create an empty dictionary\n",
    "all_weather_data = {}\n",
    "\n",
    "for city in cities:\n",
    "    url = f\"http://api.openweathermap.org/data/2.5/weather?q={city}&appid={api_key}&units=metric\"\n",
    "    response = requests.get(url)\n",
    "    data = response.json()\n",
    "\n",
    "    # Add the weather data for the current city to the dictionary\n",
    "    all_weather_data[city] = data\n",
    "\n",
    "    # Print the weather data for the current city\n",
    "    temperature = data[\"main\"][\"temp\"]\n",
    "    humidity = data[\"main\"][\"humidity\"]\n",
    "    wind_speed = data[\"wind\"][\"speed\"]\n",
    "\n",
    "    print(f\"Weather data for {city}:\")\n",
    "    print(f\"  Temperature: {temperature}°C\")\n",
    "    print(f\"  Humidity: {humidity}%\")\n",
    "    print(f\"  Wind Speed: {wind_speed} m/s\")\n",
    "    print()\n",
    "\n",
    "# Save the data for all cities to a single JSON file\n",
    "with open(\"all_cities_weather_data.json\", \"w\") as file:\n",
    "    json.dump(all_weather_data, file)\n",
    "\n",
    "print(\"Weather data for all cities saved to all_cities_weather_data.json\")\n"
   ]
  },
  {
   "cell_type": "code",
   "execution_count": 8,
   "metadata": {},
   "outputs": [
    {
     "name": "stdout",
     "output_type": "stream",
     "text": [
      "Weather data for New York:\n",
      "  General Condition: Clear\n",
      "  Detailed Condition: clear sky\n",
      "  Temperature: 10.62°C\n",
      "  Humidity: 43%\n",
      "  Wind Speed: 4.12 m/s\n",
      "  Cloudiness: 0%\n",
      "  Rain Volume (1h): 0 mm\n",
      "  Snow Volume (1h): 0 mm\n",
      "\n",
      "Weather data for Praha:\n",
      "  General Condition: Rain\n",
      "  Detailed Condition: light rain\n",
      "  Temperature: 9.75°C\n",
      "  Humidity: 74%\n",
      "  Wind Speed: 1.03 m/s\n",
      "  Cloudiness: 100%\n",
      "  Rain Volume (1h): 0.15 mm\n",
      "  Snow Volume (1h): 0 mm\n",
      "\n",
      "Weather data for Brno:\n",
      "  General Condition: Rain\n",
      "  Detailed Condition: light rain\n",
      "  Temperature: 8.9°C\n",
      "  Humidity: 77%\n",
      "  Wind Speed: 3.13 m/s\n",
      "  Cloudiness: 20%\n",
      "  Rain Volume (1h): 0.56 mm\n",
      "  Snow Volume (1h): 0 mm\n",
      "\n",
      "Weather data for Ostrava:\n",
      "  General Condition: Rain\n",
      "  Detailed Condition: light rain\n",
      "  Temperature: 9.29°C\n",
      "  Humidity: 76%\n",
      "  Wind Speed: 4.63 m/s\n",
      "  Cloudiness: 20%\n",
      "  Rain Volume (1h): 0.49 mm\n",
      "  Snow Volume (1h): 0 mm\n",
      "\n",
      "Weather data for Pyšely:\n",
      "  General Condition: Clouds\n",
      "  Detailed Condition: overcast clouds\n",
      "  Temperature: 8.72°C\n",
      "  Humidity: 74%\n",
      "  Wind Speed: 2.65 m/s\n",
      "  Cloudiness: 99%\n",
      "  Rain Volume (1h): 0 mm\n",
      "  Snow Volume (1h): 0 mm\n",
      "\n",
      "Weather data for all cities saved to all_cities_weather_data.json\n"
     ]
    }
   ],
   "source": [
    "#api\n",
    "api_key = \"de0405115c002166202a8445e6fb9864\"\n",
    "cities = [\"New York\", \"Praha\", \"Brno\", \"Ostrava\", \"Pyšely\"]\n",
    "\n",
    "# Create an empty dictionary\n",
    "all_weather_data = {}\n",
    "\n",
    "for city in cities:\n",
    "    url = f\"http://api.openweathermap.org/data/2.5/weather?q={city}&appid={api_key}&units=metric\"\n",
    "    response = requests.get(url)\n",
    "    data = response.json()\n",
    "\n",
    "    # Add the weather data for the current city to the dictionary\n",
    "    all_weather_data[city] = data\n",
    "\n",
    "    # Print the weather data for the current city\n",
    "    temperature = data[\"main\"][\"temp\"]\n",
    "    humidity = data[\"main\"][\"humidity\"]\n",
    "    wind_speed = data[\"wind\"][\"speed\"]\n",
    "    general_condition = data[\"weather\"][0][\"main\"]\n",
    "    detailed_condition = data[\"weather\"][0][\"description\"]\n",
    "    cloudiness = data[\"clouds\"][\"all\"]\n",
    "\n",
    "    rain_1h = data.get(\"rain\", {}).get(\"1h\", 0)  # Returns 0 if the \"rain\" or \"1h\" key is not available\n",
    "    snow_1h = data.get(\"snow\", {}).get(\"1h\", 0)  # Returns 0 if the \"snow\" or \"1h\" key is not available\n",
    "\n",
    "    print(f\"Weather data for {city}:\")\n",
    "    print(f\"  General Condition: {general_condition}\")\n",
    "    print(f\"  Detailed Condition: {detailed_condition}\")\n",
    "    print(f\"  Temperature: {temperature}°C\")\n",
    "    print(f\"  Humidity: {humidity}%\")\n",
    "    print(f\"  Wind Speed: {wind_speed} m/s\")\n",
    "    print(f\"  Cloudiness: {cloudiness}%\")\n",
    "    print(f\"  Rain Volume (1h): {rain_1h} mm\")\n",
    "    print(f\"  Snow Volume (1h): {snow_1h} mm\")\n",
    "    print()\n",
    "\n",
    "# Save the data for all cities to a single JSON file\n",
    "with open(\"all_cities_weather_data.json\", \"w\") as file:\n",
    "    json.dump(all_weather_data, file)\n",
    "\n",
    "print(\"Weather data for all cities saved to all_cities_weather_data.json\")\n"
   ]
  },
  {
   "cell_type": "code",
   "execution_count": 9,
   "metadata": {},
   "outputs": [
    {
     "name": "stdout",
     "output_type": "stream",
     "text": [
      "       City General Condition Detailed Condition  Temperature (°C)  \\\n",
      "0  New York             Clear          clear sky             10.62   \n",
      "1     Praha              Rain         light rain              9.75   \n",
      "2      Brno              Rain         light rain              8.90   \n",
      "3   Ostrava              Rain         light rain              9.29   \n",
      "4    Pyšely            Clouds    overcast clouds              8.72   \n",
      "\n",
      "   Humidity (%)  Wind Speed (m/s)  Cloudiness (%)  Rain Volume (1h, mm)  \\\n",
      "0            43              4.12               0                  0.00   \n",
      "1            74              1.03             100                  0.15   \n",
      "2            77              3.13              20                  0.56   \n",
      "3            76              4.63              20                  0.49   \n",
      "4            74              2.65              99                  0.00   \n",
      "\n",
      "   Snow Volume (1h, mm)  \n",
      "0                     0  \n",
      "1                     0  \n",
      "2                     0  \n",
      "3                     0  \n",
      "4                     0  \n"
     ]
    }
   ],
   "source": [
    "\n",
    "# Load the data from the JSON file\n",
    "with open(\"all_cities_weather_data.json\", \"r\") as file:\n",
    "    saved_data = json.load(file)\n",
    "\n",
    "# Prepare the data for the DataFrame\n",
    "data_for_dataframe = []\n",
    "\n",
    "for city, weather_data in saved_data.items():\n",
    "    city_data = {\n",
    "        \"City\": city,\n",
    "        \"General Condition\": weather_data[\"weather\"][0][\"main\"],\n",
    "        \"Detailed Condition\": weather_data[\"weather\"][0][\"description\"],\n",
    "        \"Temperature (°C)\": weather_data[\"main\"][\"temp\"],\n",
    "        \"Humidity (%)\": weather_data[\"main\"][\"humidity\"],\n",
    "        \"Wind Speed (m/s)\": weather_data[\"wind\"][\"speed\"],\n",
    "        \"Cloudiness (%)\": weather_data[\"clouds\"][\"all\"],\n",
    "        \"Rain Volume (1h, mm)\": weather_data.get(\"rain\", {}).get(\"1h\", 0),\n",
    "        \"Snow Volume (1h, mm)\": weather_data.get(\"snow\", {}).get(\"1h\", 0),\n",
    "    }\n",
    "    data_for_dataframe.append(city_data)\n",
    "\n",
    "# Create a DataFrame from the prepared data\n",
    "df = pd.DataFrame(data_for_dataframe)\n",
    "\n",
    "print(df)\n"
   ]
  },
  {
   "cell_type": "code",
   "execution_count": 10,
   "metadata": {},
   "outputs": [
    {
     "data": {
      "text/html": [
       "<style type=\"text/css\">\n",
       "#T_e3d5b th {\n",
       "  font-weight: bold;\n",
       "  text-align: center;\n",
       "  border: 1px solid black;\n",
       "  background-color: #f2f2f2;\n",
       "}\n",
       "#T_e3d5b_row0_col0, #T_e3d5b_row0_col1, #T_e3d5b_row0_col2, #T_e3d5b_row0_col3, #T_e3d5b_row0_col4, #T_e3d5b_row0_col5, #T_e3d5b_row0_col6, #T_e3d5b_row0_col7, #T_e3d5b_row0_col8, #T_e3d5b_row1_col0, #T_e3d5b_row1_col1, #T_e3d5b_row1_col2, #T_e3d5b_row1_col3, #T_e3d5b_row1_col4, #T_e3d5b_row1_col5, #T_e3d5b_row1_col6, #T_e3d5b_row1_col7, #T_e3d5b_row1_col8, #T_e3d5b_row2_col0, #T_e3d5b_row2_col1, #T_e3d5b_row2_col2, #T_e3d5b_row2_col3, #T_e3d5b_row2_col4, #T_e3d5b_row2_col5, #T_e3d5b_row2_col6, #T_e3d5b_row2_col7, #T_e3d5b_row2_col8, #T_e3d5b_row3_col0, #T_e3d5b_row3_col1, #T_e3d5b_row3_col2, #T_e3d5b_row3_col3, #T_e3d5b_row3_col4, #T_e3d5b_row3_col5, #T_e3d5b_row3_col6, #T_e3d5b_row3_col7, #T_e3d5b_row3_col8, #T_e3d5b_row4_col0, #T_e3d5b_row4_col1, #T_e3d5b_row4_col2, #T_e3d5b_row4_col3, #T_e3d5b_row4_col4, #T_e3d5b_row4_col5, #T_e3d5b_row4_col6, #T_e3d5b_row4_col7, #T_e3d5b_row4_col8 {\n",
       "  text-align: center;\n",
       "  border: 1px solid black;\n",
       "}\n",
       "</style>\n",
       "<table id=\"T_e3d5b\">\n",
       "  <thead>\n",
       "    <tr>\n",
       "      <th class=\"blank level0\" >&nbsp;</th>\n",
       "      <th id=\"T_e3d5b_level0_col0\" class=\"col_heading level0 col0\" >City</th>\n",
       "      <th id=\"T_e3d5b_level0_col1\" class=\"col_heading level0 col1\" >General Condition</th>\n",
       "      <th id=\"T_e3d5b_level0_col2\" class=\"col_heading level0 col2\" >Detailed Condition</th>\n",
       "      <th id=\"T_e3d5b_level0_col3\" class=\"col_heading level0 col3\" >Temperature (°C)</th>\n",
       "      <th id=\"T_e3d5b_level0_col4\" class=\"col_heading level0 col4\" >Humidity (%)</th>\n",
       "      <th id=\"T_e3d5b_level0_col5\" class=\"col_heading level0 col5\" >Wind Speed (m/s)</th>\n",
       "      <th id=\"T_e3d5b_level0_col6\" class=\"col_heading level0 col6\" >Cloudiness (%)</th>\n",
       "      <th id=\"T_e3d5b_level0_col7\" class=\"col_heading level0 col7\" >Rain Volume (1h, mm)</th>\n",
       "      <th id=\"T_e3d5b_level0_col8\" class=\"col_heading level0 col8\" >Snow Volume (1h, mm)</th>\n",
       "    </tr>\n",
       "  </thead>\n",
       "  <tbody>\n",
       "    <tr>\n",
       "      <th id=\"T_e3d5b_level0_row0\" class=\"row_heading level0 row0\" >0</th>\n",
       "      <td id=\"T_e3d5b_row0_col0\" class=\"data row0 col0\" >New York</td>\n",
       "      <td id=\"T_e3d5b_row0_col1\" class=\"data row0 col1\" >Clear</td>\n",
       "      <td id=\"T_e3d5b_row0_col2\" class=\"data row0 col2\" >clear sky</td>\n",
       "      <td id=\"T_e3d5b_row0_col3\" class=\"data row0 col3\" >10.6</td>\n",
       "      <td id=\"T_e3d5b_row0_col4\" class=\"data row0 col4\" >43</td>\n",
       "      <td id=\"T_e3d5b_row0_col5\" class=\"data row0 col5\" >4.12</td>\n",
       "      <td id=\"T_e3d5b_row0_col6\" class=\"data row0 col6\" >0</td>\n",
       "      <td id=\"T_e3d5b_row0_col7\" class=\"data row0 col7\" >0.00</td>\n",
       "      <td id=\"T_e3d5b_row0_col8\" class=\"data row0 col8\" >0.00</td>\n",
       "    </tr>\n",
       "    <tr>\n",
       "      <th id=\"T_e3d5b_level0_row1\" class=\"row_heading level0 row1\" >1</th>\n",
       "      <td id=\"T_e3d5b_row1_col0\" class=\"data row1 col0\" >Praha</td>\n",
       "      <td id=\"T_e3d5b_row1_col1\" class=\"data row1 col1\" >Rain</td>\n",
       "      <td id=\"T_e3d5b_row1_col2\" class=\"data row1 col2\" >light rain</td>\n",
       "      <td id=\"T_e3d5b_row1_col3\" class=\"data row1 col3\" >9.8</td>\n",
       "      <td id=\"T_e3d5b_row1_col4\" class=\"data row1 col4\" >74</td>\n",
       "      <td id=\"T_e3d5b_row1_col5\" class=\"data row1 col5\" >1.03</td>\n",
       "      <td id=\"T_e3d5b_row1_col6\" class=\"data row1 col6\" >100</td>\n",
       "      <td id=\"T_e3d5b_row1_col7\" class=\"data row1 col7\" >0.15</td>\n",
       "      <td id=\"T_e3d5b_row1_col8\" class=\"data row1 col8\" >0.00</td>\n",
       "    </tr>\n",
       "    <tr>\n",
       "      <th id=\"T_e3d5b_level0_row2\" class=\"row_heading level0 row2\" >2</th>\n",
       "      <td id=\"T_e3d5b_row2_col0\" class=\"data row2 col0\" >Brno</td>\n",
       "      <td id=\"T_e3d5b_row2_col1\" class=\"data row2 col1\" >Rain</td>\n",
       "      <td id=\"T_e3d5b_row2_col2\" class=\"data row2 col2\" >light rain</td>\n",
       "      <td id=\"T_e3d5b_row2_col3\" class=\"data row2 col3\" >8.9</td>\n",
       "      <td id=\"T_e3d5b_row2_col4\" class=\"data row2 col4\" >77</td>\n",
       "      <td id=\"T_e3d5b_row2_col5\" class=\"data row2 col5\" >3.13</td>\n",
       "      <td id=\"T_e3d5b_row2_col6\" class=\"data row2 col6\" >20</td>\n",
       "      <td id=\"T_e3d5b_row2_col7\" class=\"data row2 col7\" >0.56</td>\n",
       "      <td id=\"T_e3d5b_row2_col8\" class=\"data row2 col8\" >0.00</td>\n",
       "    </tr>\n",
       "    <tr>\n",
       "      <th id=\"T_e3d5b_level0_row3\" class=\"row_heading level0 row3\" >3</th>\n",
       "      <td id=\"T_e3d5b_row3_col0\" class=\"data row3 col0\" >Ostrava</td>\n",
       "      <td id=\"T_e3d5b_row3_col1\" class=\"data row3 col1\" >Rain</td>\n",
       "      <td id=\"T_e3d5b_row3_col2\" class=\"data row3 col2\" >light rain</td>\n",
       "      <td id=\"T_e3d5b_row3_col3\" class=\"data row3 col3\" >9.3</td>\n",
       "      <td id=\"T_e3d5b_row3_col4\" class=\"data row3 col4\" >76</td>\n",
       "      <td id=\"T_e3d5b_row3_col5\" class=\"data row3 col5\" >4.63</td>\n",
       "      <td id=\"T_e3d5b_row3_col6\" class=\"data row3 col6\" >20</td>\n",
       "      <td id=\"T_e3d5b_row3_col7\" class=\"data row3 col7\" >0.49</td>\n",
       "      <td id=\"T_e3d5b_row3_col8\" class=\"data row3 col8\" >0.00</td>\n",
       "    </tr>\n",
       "    <tr>\n",
       "      <th id=\"T_e3d5b_level0_row4\" class=\"row_heading level0 row4\" >4</th>\n",
       "      <td id=\"T_e3d5b_row4_col0\" class=\"data row4 col0\" >Pyšely</td>\n",
       "      <td id=\"T_e3d5b_row4_col1\" class=\"data row4 col1\" >Clouds</td>\n",
       "      <td id=\"T_e3d5b_row4_col2\" class=\"data row4 col2\" >overcast clouds</td>\n",
       "      <td id=\"T_e3d5b_row4_col3\" class=\"data row4 col3\" >8.7</td>\n",
       "      <td id=\"T_e3d5b_row4_col4\" class=\"data row4 col4\" >74</td>\n",
       "      <td id=\"T_e3d5b_row4_col5\" class=\"data row4 col5\" >2.65</td>\n",
       "      <td id=\"T_e3d5b_row4_col6\" class=\"data row4 col6\" >99</td>\n",
       "      <td id=\"T_e3d5b_row4_col7\" class=\"data row4 col7\" >0.00</td>\n",
       "      <td id=\"T_e3d5b_row4_col8\" class=\"data row4 col8\" >0.00</td>\n",
       "    </tr>\n",
       "  </tbody>\n",
       "</table>\n"
      ],
      "text/plain": [
       "<pandas.io.formats.style.Styler at 0x18a9443df10>"
      ]
     },
     "metadata": {},
     "output_type": "display_data"
    }
   ],
   "source": [
    "# Use pandas style functionality to format the table\n",
    "styled_df = df.style.format({\n",
    "    \"Temperature (°C)\": \"{:.1f}\",\n",
    "    \"Humidity (%)\": \"{:.0f}\",\n",
    "    \"Wind Speed (m/s)\": \"{:.2f}\",\n",
    "    \"Cloudiness (%)\": \"{:.0f}\",\n",
    "    \"Rain Volume (1h, mm)\": \"{:.2f}\",\n",
    "    \"Snow Volume (1h, mm)\": \"{:.2f}\"\n",
    "}).set_properties(**{\n",
    "    'text-align': 'center',\n",
    "    'border': '1px solid black'\n",
    "}).set_table_styles([{\n",
    "    'selector': 'th',\n",
    "    'props': [\n",
    "        ('font-weight', 'bold'),\n",
    "        ('text-align', 'center'),\n",
    "        ('border', '1px solid black'),\n",
    "        ('background-color', '#f2f2f2')\n",
    "    ]\n",
    "}])\n",
    "\n",
    "# Display the formatted table\n",
    "display(styled_df)\n"
   ]
  },
  {
   "cell_type": "code",
   "execution_count": 11,
   "metadata": {},
   "outputs": [
    {
     "name": "stdout",
     "output_type": "stream",
     "text": [
      "DataFrame saved to weather_data_table.csv\n",
      "DataFrame saved to weather_data_table.xlsx\n"
     ]
    }
   ],
   "source": [
    "# Save the DataFrame as a CSV file\n",
    "df.to_csv(\"weather_data_table.csv\", index=False)\n",
    "print(\"DataFrame saved to weather_data_table.csv\")\n",
    "\n",
    "# Save the DataFrame as an Excel file\n",
    "df.to_excel(\"weather_data_table.xlsx\", index=False)\n",
    "print(\"DataFrame saved to weather_data_table.xlsx\")\n"
   ]
  }
 ],
 "metadata": {
  "kernelspec": {
   "display_name": "base",
   "language": "python",
   "name": "python3"
  },
  "language_info": {
   "codemirror_mode": {
    "name": "ipython",
    "version": 3
   },
   "file_extension": ".py",
   "mimetype": "text/x-python",
   "name": "python",
   "nbconvert_exporter": "python",
   "pygments_lexer": "ipython3",
   "version": "3.9.13"
  },
  "orig_nbformat": 4
 },
 "nbformat": 4,
 "nbformat_minor": 2
}
