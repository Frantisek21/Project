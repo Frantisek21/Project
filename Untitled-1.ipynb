{
 "cells": [
  {
   "cell_type": "code",
   "execution_count": 1,
   "metadata": {},
   "outputs": [],
   "source": [
    "from tkinter import *\n",
    "import requests\n",
    "import json\n",
    "from datetime import datetime"
   ]
  },
  {
   "cell_type": "code",
   "execution_count": 2,
   "metadata": {},
   "outputs": [
    {
     "name": "stdout",
     "output_type": "stream",
     "text": [
      "Weather data for New York saved to New York_weather_data.json\n"
     ]
    }
   ],
   "source": [
    "import requests\n",
    "import json\n",
    "\n",
    "api_key = \"de0405115c002166202a8445e6fb9864\"\n",
    "city = \"New York\"\n",
    "url = f\"http://api.openweathermap.org/data/2.5/weather?q={city}&appid={api_key}&units=metric\"\n",
    "\n",
    "response = requests.get(url)\n",
    "data = response.json()\n",
    "\n",
    "# Save the data to a local file\n",
    "with open(f\"{city}_weather_data.json\", \"w\") as file:\n",
    "    json.dump(data, file)\n",
    "\n",
    "print(f\"Weather data for {city} saved to {city}_weather_data.json\")"
   ]
  },
  {
   "cell_type": "code",
   "execution_count": null,
   "metadata": {},
   "outputs": [],
   "source": [
    "# Load the data from the local file\n",
    "with open(f\"{city}_weather_data.json\", \"r\") as file:\n",
    "    saved_data = json.load(file)\n",
    "\n",
    "temperature = saved_data[\"main\"][\"temp\"]\n",
    "humidity = saved_data[\"main\"][\"humidity\"]\n",
    "wind_speed = saved_data[\"wind\"][\"speed\"]\n",
    "\n",
    "print(f\"Temperature: {temperature}°C\")\n",
    "print(f\"Humidity: {humidity}%\")\n",
    "print(f\"Wind Speed: {wind_speed} m/s\")"
   ]
  }
 ],
 "metadata": {
  "kernelspec": {
   "display_name": "base",
   "language": "python",
   "name": "python3"
  },
  "language_info": {
   "codemirror_mode": {
    "name": "ipython",
    "version": 3
   },
   "file_extension": ".py",
   "mimetype": "text/x-python",
   "name": "python",
   "nbconvert_exporter": "python",
   "pygments_lexer": "ipython3",
   "version": "3.9.13"
  },
  "orig_nbformat": 4
 },
 "nbformat": 4,
 "nbformat_minor": 2
}
